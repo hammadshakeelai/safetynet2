{
 "cells": [
  {
   "cell_type": "code",
   "execution_count": 8,
   "id": "eb1f21cd",
   "metadata": {},
   "outputs": [
    {
     "ename": "KeyboardInterrupt",
     "evalue": "",
     "output_type": "error",
     "traceback": [
      "\u001b[1;31m---------------------------------------------------------------------------\u001b[0m",
      "\u001b[1;31mKeyboardInterrupt\u001b[0m                         Traceback (most recent call last)",
      "Cell \u001b[1;32mIn[8], line 1\u001b[0m\n\u001b[1;32m----> 1\u001b[0m Grid \u001b[38;5;241m=\u001b[39m [[\u001b[38;5;241;43m0\u001b[39;49m]\u001b[38;5;241m*\u001b[39m\u001b[38;5;241m9\u001b[39m]\u001b[38;5;241m*\u001b[39m\u001b[38;5;241m9\u001b[39m\n",
      "File \u001b[1;32m<stringsource>:69\u001b[0m, in \u001b[0;36mcfunc.to_py.__Pyx_CFunc_b0409f__29_pydevd_sys_monitoring_cython_object__lParen__etc_to_py_4code_4line.wrap\u001b[1;34m()\u001b[0m\n",
      "File \u001b[1;32m_pydevd_sys_monitoring\\\\_pydevd_sys_monitoring_cython.pyx:1465\u001b[0m, in \u001b[0;36m_pydevd_sys_monitoring_cython._line_event\u001b[1;34m()\u001b[0m\n",
      "File \u001b[1;32m_pydevd_sys_monitoring\\\\_pydevd_sys_monitoring_cython.pyx:1507\u001b[0m, in \u001b[0;36m_pydevd_sys_monitoring_cython._internal_line_event\u001b[1;34m()\u001b[0m\n",
      "File \u001b[1;32m_pydevd_sys_monitoring\\\\_pydevd_sys_monitoring_cython.pyx:1308\u001b[0m, in \u001b[0;36m_pydevd_sys_monitoring_cython._stop_on_breakpoint\u001b[1;34m()\u001b[0m\n",
      "File \u001b[1;32m_pydevd_sys_monitoring\\\\_pydevd_sys_monitoring_cython.pyx:1945\u001b[0m, in \u001b[0;36m_pydevd_sys_monitoring_cython._do_wait_suspend\u001b[1;34m()\u001b[0m\n",
      "File \u001b[1;32mc:\\Users\\Hammad\\AppData\\Local\\Programs\\Python\\Python313\\Lib\\site-packages\\debugpy\\_vendored\\pydevd\\pydevd.py:2185\u001b[0m, in \u001b[0;36mPyDB.do_wait_suspend\u001b[1;34m(self, thread, frame, event, arg, exception_type)\u001b[0m\n\u001b[0;32m   2182\u001b[0m             from_this_thread\u001b[38;5;241m.\u001b[39mappend(frame_custom_thread_id)\n\u001b[0;32m   2184\u001b[0m     \u001b[38;5;28;01mwith\u001b[39;00m \u001b[38;5;28mself\u001b[39m\u001b[38;5;241m.\u001b[39m_threads_suspended_single_notification\u001b[38;5;241m.\u001b[39mnotify_thread_suspended(thread_id, thread, stop_reason):\n\u001b[1;32m-> 2185\u001b[0m         keep_suspended \u001b[38;5;241m=\u001b[39m \u001b[38;5;28;43mself\u001b[39;49m\u001b[38;5;241;43m.\u001b[39;49m\u001b[43m_do_wait_suspend\u001b[49m\u001b[43m(\u001b[49m\u001b[43mthread\u001b[49m\u001b[43m,\u001b[49m\u001b[43m \u001b[49m\u001b[43mframe\u001b[49m\u001b[43m,\u001b[49m\u001b[43m \u001b[49m\u001b[43mevent\u001b[49m\u001b[43m,\u001b[49m\u001b[43m \u001b[49m\u001b[43marg\u001b[49m\u001b[43m,\u001b[49m\u001b[43m \u001b[49m\u001b[43mtrace_suspend_type\u001b[49m\u001b[43m,\u001b[49m\u001b[43m \u001b[49m\u001b[43mfrom_this_thread\u001b[49m\u001b[43m,\u001b[49m\u001b[43m \u001b[49m\u001b[43mframes_tracker\u001b[49m\u001b[43m)\u001b[49m\n\u001b[0;32m   2187\u001b[0m frames_list \u001b[38;5;241m=\u001b[39m \u001b[38;5;28;01mNone\u001b[39;00m\n\u001b[0;32m   2189\u001b[0m \u001b[38;5;28;01mif\u001b[39;00m keep_suspended:\n\u001b[0;32m   2190\u001b[0m     \u001b[38;5;66;03m# This means that we should pause again after a set next statement.\u001b[39;00m\n",
      "File \u001b[1;32mc:\\Users\\Hammad\\AppData\\Local\\Programs\\Python\\Python313\\Lib\\site-packages\\debugpy\\_vendored\\pydevd\\pydevd.py:2254\u001b[0m, in \u001b[0;36mPyDB._do_wait_suspend\u001b[1;34m(self, thread, frame, event, arg, trace_suspend_type, from_this_thread, frames_tracker)\u001b[0m\n\u001b[0;32m   2251\u001b[0m                 queue\u001b[38;5;241m.\u001b[39mput(internal_cmd)\n\u001b[0;32m   2252\u001b[0m                 wait_timeout \u001b[38;5;241m=\u001b[39m TIMEOUT_FAST\n\u001b[1;32m-> 2254\u001b[0m         \u001b[43mnotify_event\u001b[49m\u001b[38;5;241;43m.\u001b[39;49m\u001b[43mwait\u001b[49m\u001b[43m(\u001b[49m\u001b[43mwait_timeout\u001b[49m\u001b[43m)\u001b[49m\n\u001b[0;32m   2255\u001b[0m         notify_event\u001b[38;5;241m.\u001b[39mclear()\n\u001b[0;32m   2257\u001b[0m \u001b[38;5;28;01mfinally\u001b[39;00m:\n",
      "File \u001b[1;32mc:\\Users\\Hammad\\AppData\\Local\\Programs\\Python\\Python313\\Lib\\threading.py:659\u001b[0m, in \u001b[0;36mEvent.wait\u001b[1;34m(self, timeout)\u001b[0m\n\u001b[0;32m    657\u001b[0m signaled \u001b[38;5;241m=\u001b[39m \u001b[38;5;28mself\u001b[39m\u001b[38;5;241m.\u001b[39m_flag\n\u001b[0;32m    658\u001b[0m \u001b[38;5;28;01mif\u001b[39;00m \u001b[38;5;129;01mnot\u001b[39;00m signaled:\n\u001b[1;32m--> 659\u001b[0m     signaled \u001b[38;5;241m=\u001b[39m \u001b[38;5;28;43mself\u001b[39;49m\u001b[38;5;241;43m.\u001b[39;49m\u001b[43m_cond\u001b[49m\u001b[38;5;241;43m.\u001b[39;49m\u001b[43mwait\u001b[49m\u001b[43m(\u001b[49m\u001b[43mtimeout\u001b[49m\u001b[43m)\u001b[49m\n\u001b[0;32m    660\u001b[0m \u001b[38;5;28;01mreturn\u001b[39;00m signaled\n",
      "File \u001b[1;32mc:\\Users\\Hammad\\AppData\\Local\\Programs\\Python\\Python313\\Lib\\threading.py:363\u001b[0m, in \u001b[0;36mCondition.wait\u001b[1;34m(self, timeout)\u001b[0m\n\u001b[0;32m    361\u001b[0m \u001b[38;5;28;01melse\u001b[39;00m:\n\u001b[0;32m    362\u001b[0m     \u001b[38;5;28;01mif\u001b[39;00m timeout \u001b[38;5;241m>\u001b[39m \u001b[38;5;241m0\u001b[39m:\n\u001b[1;32m--> 363\u001b[0m         gotit \u001b[38;5;241m=\u001b[39m \u001b[43mwaiter\u001b[49m\u001b[38;5;241;43m.\u001b[39;49m\u001b[43macquire\u001b[49m\u001b[43m(\u001b[49m\u001b[38;5;28;43;01mTrue\u001b[39;49;00m\u001b[43m,\u001b[49m\u001b[43m \u001b[49m\u001b[43mtimeout\u001b[49m\u001b[43m)\u001b[49m\n\u001b[0;32m    364\u001b[0m     \u001b[38;5;28;01melse\u001b[39;00m:\n\u001b[0;32m    365\u001b[0m         gotit \u001b[38;5;241m=\u001b[39m waiter\u001b[38;5;241m.\u001b[39macquire(\u001b[38;5;28;01mFalse\u001b[39;00m)\n",
      "\u001b[1;31mKeyboardInterrupt\u001b[0m: "
     ]
    }
   ],
   "source": [
    "Grid = [[0]*9]*9"
   ]
  },
  {
   "cell_type": "code",
   "execution_count": null,
   "id": "05459387",
   "metadata": {},
   "outputs": [],
   "source": []
  },
  {
   "cell_type": "code",
   "execution_count": 40,
   "id": "14d64417",
   "metadata": {},
   "outputs": [],
   "source": [
    "#generate a solvable sudoku grid\n",
    "grid = [[5, 3, 0, 0, 7, 0, 0, 0, 0],\n",
    "        [6, 0, 0, 1, 9, 5, 0, 0, 0],\n",
    "        [0, 9, 8, 0, 0, 0, 0, 6, 0],\n",
    "        [8, 0, 0, 0, 6, 0, 0, 0, 3],\n",
    "        [4, 0, 0, 8, 0, 3, 0, 0, 1],\n",
    "        [7, 0, 0, 0, 2, 0, 0, 0, 6],\n",
    "        [0, 6, 0, 0, 0, 0, 2, 8, 0],\n",
    "        [0, 0, 0, 4, 1, 9, 0, 0, 5],\n",
    "        [0, 0, 0, 0, 8, 0, 0, 7, 9]]"
   ]
  },
  {
   "cell_type": "code",
   "execution_count": 23,
   "id": "4c9eb9ee",
   "metadata": {},
   "outputs": [
    {
     "name": "stdout",
     "output_type": "stream",
     "text": [
      "[5, 3, 0, 0, 7, 0, 0, 0, 0]\n",
      "[6, 0, 0, 1, 9, 5, 0, 0, 0]\n",
      "[0, 9, 8, 0, 0, 0, 0, 6, 0]\n",
      "[8, 0, 0, 0, 6, 0, 0, 0, 3]\n",
      "[4, 0, 0, 8, 0, 3, 0, 0, 1]\n",
      "[7, 0, 0, 0, 2, 0, 0, 0, 6]\n",
      "[0, 6, 0, 0, 0, 0, 2, 8, 0]\n",
      "[0, 0, 0, 4, 1, 9, 0, 0, 5]\n",
      "[0, 0, 0, 0, 8, 0, 0, 7, 9]\n"
     ]
    }
   ],
   "source": [
    "printg(grid)"
   ]
  },
  {
   "cell_type": "code",
   "execution_count": 26,
   "id": "1e6e08d0",
   "metadata": {},
   "outputs": [
    {
     "data": {
      "text/plain": [
       "[[5, 3, 0, 0, 7, 0, 0, 0, 0],\n",
       " [6, 0, 0, 1, 9, 5, 0, 0, 0],\n",
       " [0, 9, 8, 0, 0, 0, 0, 6, 0],\n",
       " [8, 0, 0, 0, 6, 0, 0, 0, 3],\n",
       " [4, 0, 0, 8, 0, 3, 0, 0, 1],\n",
       " [7, 0, 0, 0, 2, 0, 0, 0, 6],\n",
       " [0, 6, 0, 0, 0, 0, 2, 8, 0],\n",
       " [0, 0, 0, 4, 1, 9, 0, 0, 5],\n",
       " [0, 0, 0, 0, 8, 0, 0, 7, 9]]"
      ]
     },
     "execution_count": 26,
     "metadata": {},
     "output_type": "execute_result"
    }
   ],
   "source": [
    "grid"
   ]
  },
  {
   "cell_type": "code",
   "execution_count": 36,
   "id": "902d353e",
   "metadata": {},
   "outputs": [],
   "source": [
    "def possible(grid,y,x,n):\n",
    "    for i in range(9):\n",
    "        if grid[y][i] == n or grid[i][x] == n:\n",
    "            return False\n",
    "    for i in range(3):\n",
    "        for j in range(3):\n",
    "            if grid[(y//3*3)+i][(x//3*3)+j] == n:\n",
    "                return False\n",
    "    return True"
   ]
  },
  {
   "cell_type": "code",
   "execution_count": 3,
   "id": "f82a7b6e",
   "metadata": {},
   "outputs": [],
   "source": [
    "def printg(Grid):\n",
    "    for i in grid:\n",
    "        print(i)"
   ]
  },
  {
   "cell_type": "code",
   "execution_count": 41,
   "metadata": {},
   "outputs": [
    {
     "name": "stdout",
     "output_type": "stream",
     "text": [
      "[5, 3, 4, 6, 7, 8, 9, 1, 2]\n",
      "[6, 7, 2, 1, 9, 5, 3, 4, 8]\n",
      "[1, 9, 8, 3, 4, 2, 5, 6, 7]\n",
      "[8, 5, 9, 7, 6, 1, 4, 2, 3]\n",
      "[4, 2, 6, 8, 5, 3, 7, 9, 1]\n",
      "[7, 1, 3, 9, 2, 4, 8, 5, 6]\n",
      "[9, 6, 1, 5, 3, 7, 2, 8, 4]\n",
      "[2, 8, 7, 4, 1, 9, 6, 3, 5]\n",
      "[3, 4, 5, 2, 8, 6, 1, 7, 9]\n"
     ]
    }
   ],
   "source": [
    "def solver(grid):\n",
    "    for i in range(9):\n",
    "        for j in range(9):\n",
    "            if grid[i][j] == 0:\n",
    "                for n in range(1,10):\n",
    "                    if possible(grid, i, j, n):\n",
    "                        grid[i][j] = n\n",
    "                        solver(grid)\n",
    "                        grid[i][j] = 0\n",
    "                return\n",
    "    printg(grid)\n",
    "solver(grid)\n",
    "\n",
    "                        \n",
    "    "
   ]
  },
  {
   "cell_type": "code",
   "execution_count": null,
   "id": "071c60db",
   "metadata": {},
   "outputs": [],
   "source": [
    "solver(Grid)"
   ]
  },
  {
   "cell_type": "code",
   "execution_count": 7,
   "id": "23d85b8e",
   "metadata": {},
   "outputs": [],
   "source": [
    "def solved(Grid):\n",
    "    for i in range(9):\n",
    "        for j in range(9):\n",
    "            if Grid[i][j] == 0:\n",
    "                return False\n",
    "    return True"
   ]
  },
  {
   "cell_type": "code",
   "execution_count": 39,
   "id": "f5bee8bb",
   "metadata": {},
   "outputs": [
    {
     "name": "stdout",
     "output_type": "stream",
     "text": [
      "[5, 3, 1, 1, 7, 1, 1, 2, 3]\n",
      "[6, 2, 7, 1, 9, 5, 1, 7, 5]\n",
      "[4, 9, 8, 9, 6, 5, 9, 6, 2]\n",
      "[8, 3, 3, 7, 6, 5, 3, 3, 3]\n",
      "[4, 3, 0, 8, 0, 3, 0, 0, 1]\n",
      "[7, 0, 0, 0, 2, 0, 0, 0, 6]\n",
      "[0, 6, 0, 0, 0, 0, 2, 8, 0]\n",
      "[0, 0, 0, 4, 1, 9, 0, 0, 5]\n",
      "[0, 0, 0, 0, 8, 0, 0, 7, 9]\n"
     ]
    }
   ],
   "source": [
    "printg(grid)"
   ]
  },
  {
   "cell_type": "code",
   "execution_count": 42,
   "id": "a7f7134c",
   "metadata": {},
   "outputs": [
    {
     "name": "stdout",
     "output_type": "stream",
     "text": [
      "False\n"
     ]
    }
   ],
   "source": [
    "print(solved(grid))"
   ]
  },
  {
   "cell_type": "code",
   "execution_count": 43,
   "id": "cd35d0c9",
   "metadata": {},
   "outputs": [],
   "source": [
    "G = [[0]*9]*9\n",
    "for i in range(9):\n",
    "    for j in range(9):\n",
    "        G[i][j] = input(f\"Enter value for cell ({i+1}, {j+1}): \")\n",
    "        while G[i][j] == '' or not G[i][j].isdigit() or int(G[i][j]) < 0 or int(G[i][j]) > 9:\n",
    "            G[i][j] = 0\n",
    "            G[i][j] = input(f\"Invalid input. Enter value for cell ({i+1}, {j+1}) (0-9): \")\n",
    "            "
   ]
  },
  {
   "cell_type": "code",
   "execution_count": 44,
   "id": "012774eb",
   "metadata": {},
   "outputs": [
    {
     "data": {
      "text/plain": [
       "[['5', '5', '5', '5', '5', '5', '5', '5', '5'],\n",
       " ['5', '5', '5', '5', '5', '5', '5', '5', '5'],\n",
       " ['5', '5', '5', '5', '5', '5', '5', '5', '5'],\n",
       " ['5', '5', '5', '5', '5', '5', '5', '5', '5'],\n",
       " ['5', '5', '5', '5', '5', '5', '5', '5', '5'],\n",
       " ['5', '5', '5', '5', '5', '5', '5', '5', '5'],\n",
       " ['5', '5', '5', '5', '5', '5', '5', '5', '5'],\n",
       " ['5', '5', '5', '5', '5', '5', '5', '5', '5'],\n",
       " ['5', '5', '5', '5', '5', '5', '5', '5', '5']]"
      ]
     },
     "execution_count": 44,
     "metadata": {},
     "output_type": "execute_result"
    }
   ],
   "source": [
    "G"
   ]
  }
 ],
 "metadata": {
  "kernelspec": {
   "display_name": "Python 3",
   "language": "python",
   "name": "python3"
  },
  "language_info": {
   "codemirror_mode": {
    "name": "ipython",
    "version": 3
   },
   "file_extension": ".py",
   "mimetype": "text/x-python",
   "name": "python",
   "nbconvert_exporter": "python",
   "pygments_lexer": "ipython3",
   "version": "3.13.0"
  }
 },
 "nbformat": 4,
 "nbformat_minor": 5
}
