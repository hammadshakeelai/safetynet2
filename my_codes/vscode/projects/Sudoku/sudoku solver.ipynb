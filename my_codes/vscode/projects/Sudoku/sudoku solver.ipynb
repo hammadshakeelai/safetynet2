{
 "cells": [
  {
   "cell_type": "code",
   "execution_count": 13,
   "id": "eb1f21cd",
   "metadata": {},
   "outputs": [],
   "source": [
    "Grid = [[0]*9]*9"
   ]
  },
  {
   "cell_type": "code",
   "execution_count": 21,
   "id": "14d64417",
   "metadata": {},
   "outputs": [],
   "source": [
    "Grid = [[0, 0, 5, 0, 0, 7, 0, 0, 0],\n",
    "        [0, 0, 0, 0, 0, 0, 0, 0, 0],\n",
    "        [0, 0, 0, 0, 0, 0, 0, 0, 0],\n",
    "        [0, 0, 1, 0, 0, 4, 0, 0, 0],\n",
    "        [0, 0, 0, 0, 0, 0, 0, 1, 0],\n",
    "        [0, 0, 6, 9, 0, 0, 0, 0, 0],\n",
    "        [0, 0, 0, 0, 0, 0, 0, 0, 2],\n",
    "        [0, 5, 0, 0, 0, 1, 0, 0, 0],\n",
    "        [0, 0, 0, 0, 0, 0, 0, 3, 0]]"
   ]
  },
  {
   "cell_type": "code",
   "execution_count": 14,
   "id": "4c9eb9ee",
   "metadata": {},
   "outputs": [
    {
     "name": "stdout",
     "output_type": "stream",
     "text": [
      "[0, 0, 0, 0, 0, 0, 0, 0, 0]\n",
      "[0, 0, 0, 0, 0, 0, 0, 0, 0]\n",
      "[0, 0, 0, 0, 0, 0, 0, 0, 0]\n",
      "[0, 0, 0, 0, 0, 0, 0, 0, 0]\n",
      "[0, 0, 0, 0, 0, 0, 0, 0, 0]\n",
      "[0, 0, 0, 0, 0, 0, 0, 0, 0]\n",
      "[0, 0, 0, 0, 0, 0, 0, 0, 0]\n",
      "[0, 0, 0, 0, 0, 0, 0, 0, 0]\n",
      "[0, 0, 0, 0, 0, 0, 0, 0, 0]\n"
     ]
    }
   ],
   "source": [
    "printg(Grid)"
   ]
  },
  {
   "cell_type": "code",
   "execution_count": 15,
   "id": "1e6e08d0",
   "metadata": {},
   "outputs": [
    {
     "data": {
      "text/plain": [
       "[[0, 0, 0, 0, 0, 0, 0, 0, 0],\n",
       " [0, 0, 0, 0, 0, 0, 0, 0, 0],\n",
       " [0, 0, 0, 0, 0, 0, 0, 0, 0],\n",
       " [0, 0, 0, 0, 0, 0, 0, 0, 0],\n",
       " [0, 0, 0, 0, 0, 0, 0, 0, 0],\n",
       " [0, 0, 0, 0, 0, 0, 0, 0, 0],\n",
       " [0, 0, 0, 0, 0, 0, 0, 0, 0],\n",
       " [0, 0, 0, 0, 0, 0, 0, 0, 0],\n",
       " [0, 0, 0, 0, 0, 0, 0, 0, 0]]"
      ]
     },
     "execution_count": 15,
     "metadata": {},
     "output_type": "execute_result"
    }
   ],
   "source": [
    "Grid"
   ]
  },
  {
   "cell_type": "code",
   "execution_count": 12,
   "id": "902d353e",
   "metadata": {},
   "outputs": [],
   "source": [
    "def possible(Grid,y,x,n):\n",
    "    global grid \n",
    "    grid= Grid\n",
    "    for i in range(9):\n",
    "        if grid[y][i] == n or grid[i][x] == n:\n",
    "            return False\n",
    "    for i in range(3):\n",
    "        for j in range(3):\n",
    "            if grid[y//3*3+i][x//3*3+j] == n:\n",
    "                return False\n",
    "    return True"
   ]
  },
  {
   "cell_type": "code",
   "execution_count": 17,
   "id": "f82a7b6e",
   "metadata": {},
   "outputs": [],
   "source": [
    "def printg(Grid):\n",
    "    for i in grid:\n",
    "        print(i)"
   ]
  },
  {
   "cell_type": "code",
   "execution_count": null,
   "metadata": {},
   "outputs": [],
   "source": [
    "def solver(Grid):\n",
    "    global grid\n",
    "    grid = Grid\n",
    "    for i in range(9):\n",
    "        for j in range(9):\n",
    "            if grid[i][j] == 0:\n",
    "                for n in range(1,10):\n",
    "                    if possible(grid, j, i, n):\n",
    "                        grid[i][j] = n\n",
    "                        if solver(grid):\n",
    "                            printg(grid)\n",
    "                            return True\n",
    "                        grid[i][j] = 1\n",
    "                return False\n",
    "                        \n",
    "    return solved(grid)"
   ]
  },
  {
   "cell_type": "code",
   "execution_count": 33,
   "id": "f76f116f",
   "metadata": {},
   "outputs": [
    {
     "name": "stdout",
     "output_type": "stream",
     "text": [
      "[1, 2, 5, 2, 2, 7, 3, 2, 2]\n",
      "[4, 3, 6, 7, 4, 4, 1, 4, 1]\n",
      "[8, 9, 7, 2, 2, 2, 3, 2, 2]\n",
      "[6, 5, 1, 3, 5, 4, 4, 4, 4]\n",
      "[8, 1, 1, 1, 1, 1, 1, 1, 1]\n",
      "[1, 1, 6, 9, 1, 8, 3, 3, 5]\n",
      "[6, 5, 5, 2, 2, 2, 7, 6, 2]\n",
      "[8, 5, 5, 7, 9, 1, 1, 1, 1]\n",
      "[1, 1, 1, 1, 1, 1, 1, 3, 8]\n"
     ]
    },
    {
     "data": {
      "text/plain": [
       "True"
      ]
     },
     "execution_count": 33,
     "metadata": {},
     "output_type": "execute_result"
    }
   ],
   "source": [
    "solver(Grid)"
   ]
  },
  {
   "cell_type": "code",
   "execution_count": 34,
   "id": "66665434",
   "metadata": {},
   "outputs": [
    {
     "name": "stdout",
     "output_type": "stream",
     "text": [
      "[1, 2, 5, 2, 2, 7, 3, 2, 2]\n",
      "[4, 3, 6, 7, 4, 4, 1, 4, 1]\n",
      "[8, 9, 7, 2, 2, 2, 3, 2, 2]\n",
      "[6, 5, 1, 3, 5, 4, 4, 4, 4]\n",
      "[8, 1, 1, 1, 1, 1, 1, 1, 1]\n",
      "[1, 1, 6, 9, 1, 8, 3, 3, 5]\n",
      "[6, 5, 5, 2, 2, 2, 7, 6, 2]\n",
      "[8, 5, 5, 7, 9, 1, 1, 1, 1]\n",
      "[1, 1, 1, 1, 1, 1, 1, 3, 8]\n"
     ]
    }
   ],
   "source": [
    "printg(grid)"
   ]
  },
  {
   "cell_type": "code",
   "execution_count": 20,
   "id": "23d85b8e",
   "metadata": {},
   "outputs": [],
   "source": [
    "def solved(Grid):\n",
    "    for i in range(9):\n",
    "        for j in range(9):\n",
    "            if Grid[i][j] == 0:\n",
    "                return False\n",
    "    return True"
   ]
  },
  {
   "cell_type": "code",
   "execution_count": null,
   "id": "f5bee8bb",
   "metadata": {},
   "outputs": [],
   "source": []
  },
  {
   "cell_type": "code",
   "execution_count": null,
   "id": "a7f7134c",
   "metadata": {},
   "outputs": [],
   "source": []
  },
  {
   "cell_type": "code",
   "execution_count": null,
   "id": "cd35d0c9",
   "metadata": {},
   "outputs": [],
   "source": []
  },
  {
   "cell_type": "code",
   "execution_count": null,
   "id": "012774eb",
   "metadata": {},
   "outputs": [],
   "source": []
  }
 ],
 "metadata": {
  "kernelspec": {
   "display_name": "Python 3",
   "language": "python",
   "name": "python3"
  },
  "language_info": {
   "codemirror_mode": {
    "name": "ipython",
    "version": 3
   },
   "file_extension": ".py",
   "mimetype": "text/x-python",
   "name": "python",
   "nbconvert_exporter": "python",
   "pygments_lexer": "ipython3",
   "version": "3.13.0"
  }
 },
 "nbformat": 4,
 "nbformat_minor": 5
}
