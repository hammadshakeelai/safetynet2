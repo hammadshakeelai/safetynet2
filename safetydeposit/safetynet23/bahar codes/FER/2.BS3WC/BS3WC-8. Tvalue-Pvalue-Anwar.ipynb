{
 "cells": [
  {
   "cell_type": "code",
   "execution_count": 1,
   "metadata": {},
   "outputs": [
    {
     "name": "stdout",
     "output_type": "stream",
     "text": [
      "/home/baharali/Medical_Image/Implementations/2.BS3WC\n"
     ]
    }
   ],
   "source": [
    "import pandas as pd\n",
    "import numpy as np\n",
    "import os\n",
    "\n",
    "path = os.getcwd()\n",
    "df = pd.read_csv('dataset-final.csv')\n",
    "print(path)"
   ]
  },
  {
   "cell_type": "code",
   "execution_count": 2,
   "metadata": {},
   "outputs": [],
   "source": [
    "df_ctg_05 = df[(df['File Name'] == 'Ctg-05') | (df['File Name'] == 'ctg-05')]\n",
    "df_ctg_10 = df[(df['File Name'] == 'Ctg-10') | (df['File Name'] == 'ctg-10')]\n",
    "df_ctg_15 = df[(df['File Name'] == 'Ctg-15') | (df['File Name'] == 'ctg-15')]\n",
    "df_ctg_20 = df[(df['File Name'] == 'Ctg-20') | (df['File Name'] == 'ctg-20')]\n",
    "\n",
    "df_pima_05 = df[df['File Name'] == 'pima-05']\n",
    "df_pima_10 = df[df['File Name'] == 'pima-10']\n",
    "df_pima_15 = df[df['File Name'] == 'pima-15']\n",
    "df_pima_20 = df[df['File Name'] == 'pima-20']"
   ]
  },
  {
   "cell_type": "code",
   "execution_count": 3,
   "metadata": {},
   "outputs": [
    {
     "data": {
      "text/plain": [
       "(100, 12)"
      ]
     },
     "execution_count": 3,
     "metadata": {},
     "output_type": "execute_result"
    }
   ],
   "source": [
    "df_ctg_05.shape\n",
    "#df_pima_05[df_pima_05['Algo'] == '1-RE3WC']['Accuracy'].mean()\n",
    "#df_pima_05[df_pima_05['Algo'] == '2-LOF']['Accuracy'].mean()\n",
    "#df_pima_05[df_pima_05['Algo'] == '3-LoOP']['Accuracy'].std()"
   ]
  },
  {
   "cell_type": "code",
   "execution_count": 4,
   "metadata": {},
   "outputs": [
    {
     "data": {
      "text/plain": [
       "0.0030810752992878037"
      ]
     },
     "execution_count": 4,
     "metadata": {},
     "output_type": "execute_result"
    }
   ],
   "source": [
    "df_ctg_20.shape\n",
    "df_pima_20.shape\n",
    "df_pima_20[df_pima_20['Algo'] == '2-LOF']['Accuracy'].std()"
   ]
  },
  {
   "cell_type": "code",
   "execution_count": 5,
   "metadata": {},
   "outputs": [],
   "source": [
    "import csv\n",
    "\n",
    "def write_to_file(file_name, values, header_names=False, mode='w'):\n",
    "    with open(file_name, mode) as writeFile:\n",
    "        writer = csv.writer(writeFile)\n",
    "        if header_names and mode == 'w':\n",
    "            writer.writerow(header_names)\n",
    "        \n",
    "        writer.writerows(values)\n",
    "        "
   ]
  },
  {
   "cell_type": "code",
   "execution_count": 6,
   "metadata": {},
   "outputs": [],
   "source": [
    "file_path = os.path.join(path, 'Tvalue_Pvalue.csv')\n",
    "values = [['\\\\makecell{Comparing \\\\\\\\ Approach}', 'Scale', 't value', 'p value', 'Hypo', 'Mean1', 'Mean2', 'Mean Diff', 'Std1', 'Std2', 'Std Diff']]\n",
    "write_to_file(file_path, np.array(values), mode='w')"
   ]
  },
  {
   "cell_type": "code",
   "execution_count": 7,
   "metadata": {},
   "outputs": [],
   "source": [
    "def format_number(number, r=2):\n",
    "    negative_flag = ''\n",
    "    number_formated = ''\n",
    "    if number < 0:\n",
    "        negative_flag = '-'\n",
    "        number = number*-1\n",
    "        \n",
    "    if int(number) >= 10000:\n",
    "        number_formated = str(format(number,\"10.\" + str(r) + \"E\"))\n",
    "        number_formated = number_formated.replace('E+', ' \\\\times 10 ^ {') + '}'\n",
    "    elif int(number * 10000) <= 0:\n",
    "        number_formated = str(format(number,\"10.\" + str(r) + \"E\"))\n",
    "        number_formated = number_formated.replace('E-', ' \\\\times 10 ^ {-') + '}'\n",
    "    elif int(number * 10) > 0:\n",
    "        number_formated = str(round(number,r))\n",
    "    elif int(number * 100) > 0:\n",
    "        number_formated = str(round(number,r+1))\n",
    "    elif int(number * 1000) > 0:\n",
    "        number_formated = str(round(number,r+2))\n",
    "    elif int(number * 10000) > 0:\n",
    "        number_formated = str(round(number,r+3))\n",
    "            \n",
    "    number_formated = negative_flag + number_formated.strip()\n",
    "    \n",
    "    return number_formated"
   ]
  },
  {
   "cell_type": "code",
   "execution_count": 8,
   "metadata": {},
   "outputs": [
    {
     "data": {
      "text/plain": [
       "'0.19'"
      ]
     },
     "execution_count": 8,
     "metadata": {},
     "output_type": "execute_result"
    }
   ],
   "source": [
    "format_number(.19)"
   ]
  },
  {
   "cell_type": "code",
   "execution_count": null,
   "metadata": {},
   "outputs": [],
   "source": []
  },
  {
   "cell_type": "code",
   "execution_count": 9,
   "metadata": {},
   "outputs": [],
   "source": [
    "def check_statistical_significance(df, key1, key2, measurement_scale, flag=0):\n",
    "    # Student's t-test\n",
    "    from numpy.random import seed\n",
    "    from numpy.random import randn\n",
    "    from scipy.stats import ttest_ind\n",
    "    \n",
    "    values = []\n",
    "    \n",
    "    #Seed the random number generator\n",
    "    seed(1)\n",
    "\n",
    "    #Generate two independent samples\n",
    "    data1 = np.array(df[df['Algo'] == key1][measurement_scale])\n",
    "    data2 = np.array(df[df['Algo'] == key2][measurement_scale])\n",
    "    \n",
    "    data3 = []\n",
    "    for i in range(len(data1)):\n",
    "        data3.append(data1[i] - data2[i])\n",
    "    \n",
    "    \n",
    "    \n",
    "    mean1 = np.mean(data1)\n",
    "    mean2 = np.mean(data2)\n",
    "    \n",
    "    std1 = np.std(data1)\n",
    "    std2 = np.std(data2)\n",
    "    \n",
    "    std3 = np.std(data3)\n",
    "    \n",
    "    #Compare Samples\n",
    "    stat, p = ttest_ind(data1, data2)\n",
    "    \n",
    "    algo_1 = key1.split('-')[1]\n",
    "    algo_2 = key2.split('-')[1]\n",
    "    \n",
    "    #print('Statistics=%.3f, p=%.3f' % (stat, p))\n",
    "    values.append([key1, key2, measurement_scale, format(stat,\"10.2E\"), format(p,\"10.2E\"), 'H1', format(mean1,\"10.2E\"), \n",
    "        format(mean2,\"10.2E\"), format((mean1-mean2),\"10.2E\"), format(std1,\"10.2E\"), format(std2,\"10.2E\"), format((std1-std2),\"10.2E\")])\n",
    "\n",
    "    write_to_file(file_path, np.array(values), mode='a')\n",
    "    \n",
    "    \n",
    "    #values2 = [[' & ' + key1 + ' & ' + key2 + ' & ' + measurement_scale + ' & ' + str(format(stat,\"10.2E\")) + ' & ' + \n",
    "    #    str(format(p,\"10.2E\")) + ' & ' + 'H1' + ' & ' + str(format(mean1,\"10.2E\")) + ' & ' + str(format(mean2,\"10.2E\")) + ' & ' + \n",
    "    #    str(format((mean1-mean2),\"10.2E\")) + ' & ' + str(format(std1,\"10.2E\")) + ' & ' + str(format(std2,\"10.2E\")) + r' \\\\']]\n",
    "    \n",
    "    if p < 0.05:\n",
    "        if stat >= 0:\n",
    "            hypo = '\\\\boldmath{$\\mathrm{H_1}$}'\n",
    "        else:\n",
    "            hypo = '$\\mathrm{H_1}$'\n",
    "    else:\n",
    "        hypo = '$\\mathrm{H_0}$'\n",
    "    \n",
    "    p_formated = '$' + format_number(p) + '$'\n",
    "    std3_formated = '$' + format_number(std3) + '$'\n",
    "    stat_formated = '$' + format_number(stat) + '$'\n",
    "    mean_formated = '$' + format_number(mean1-mean2) + '$'\n",
    "\n",
    "    if flag:\n",
    "        str_val = [[' & ' + algo_2 + ' & ' + stat_formated + ' & ' + \n",
    "                p_formated + ' & ' + hypo + ' & ' + mean_formated + ' & ' + \n",
    "                std3_formated + r' \\\\' + ' \\\\cline{3-8}']]\n",
    "    else:\n",
    "        str_val = [[' & ' + ' & ' + algo_2 + ' & ' + stat_formated + ' & ' + \n",
    "                p_formated + ' & ' + hypo + ' & ' + mean_formated + ' & ' + \n",
    "                std3_formated + r' \\\\' + ' \\\\cline{3-8}']]\n",
    "    \n",
    "    write_to_file(file_path2, np.array(str_val), mode='a')\n",
    "\n",
    "    #Interpret\n",
    "    alpha = 0.05\n",
    "    if p > alpha:\n",
    "        pass\n",
    "        #print('Same distributions (fail to reject H0)')\n",
    "    else:\n",
    "        pass\n",
    "        #print('Different distributions (reject H0)')"
   ]
  },
  {
   "cell_type": "code",
   "execution_count": 10,
   "metadata": {},
   "outputs": [],
   "source": [
    "file_path2 = os.path.join(path, 'Tvalue_Pvalue_latex.txt')\n",
    "\n",
    "def start_method(mode='w'):\n",
    "    values = [[],[],\n",
    "        ['\\\\begin{table}[ht!]'],\n",
    "        ['\\\\centering'],\n",
    "        ['\\\\resizebox{\\linewidth}{!}{%'],\n",
    "        ['\\\\begin{tabular}{| l | l | l | c | c | c | c | c |}'],\n",
    "        ['\\\\hline &&&&&&& \\\\\\\\'],\n",
    "        ['Dataset' + ' & ' + 'Measure' + ' & ' + '\\\\makecell{Comparing \\\\\\\\ Approach}' + ' & ' + '\\\\textit{t} value' + ' & ' + '\\\\textit{p} value' + ' & ' \n",
    "         + 'Hypo.' + ' & ' + 'Mean diff.' + ' & ' + 'Std. dev.' + r' \\\\' + ' \\\\hline'], \n",
    "        ['\\\\multirow{18}{*}{Cardiotocography}'],\n",
    "        [' & ' + '\\\\multirow{9}{*}{Accuracy}'] ]\n",
    "    \n",
    "    \n",
    "    write_to_file(file_path2, np.array(values), mode=mode)\n",
    "\n",
    "def middle_method(mode='w'):\n",
    "    values = [['\\\\hline'],\n",
    "        ['\\\\multicolumn{8}{|c|}{} \\\\\\\\ [-2.5ex]  \\\\cline{1-8}'],\n",
    "        ['\\\\multirow{18}{*}{Pima Diabetes}'],\n",
    "        [' & ' + '\\\\multirow{9}{*}{Accuracy}'] ]\n",
    "    \n",
    "    write_to_file(file_path2, np.array(values), mode=mode)\n",
    "\n",
    "def end_method(mode='w', tab_name='table', percentage='5'):\n",
    "    values = [ ['\\\\hline'],\n",
    "        #['\\\\multicolumn{7}{l}{H1: The mean difference is greater than zero.} \\\\\\\\'],\n",
    "        ['\\\\hline'],\n",
    "        ['\\\\end{tabular} }'],\n",
    "        ['\\\\caption{Results of t-tests on datasets with ' + percentage + '\\% downsampling}'],\n",
    "        ['\\\\label{tab:' + tab_name + '}'],\n",
    "        ['\\\\end{table}']]\n",
    "    \n",
    "    write_to_file(file_path2, np.array(values), mode=mode)\n",
    "\n"
   ]
  },
  {
   "cell_type": "code",
   "execution_count": null,
   "metadata": {},
   "outputs": [],
   "source": []
  },
  {
   "cell_type": "code",
   "execution_count": 11,
   "metadata": {},
   "outputs": [
    {
     "name": "stderr",
     "output_type": "stream",
     "text": [
      "/home/baharali/anaconda3/lib/python3.6/site-packages/ipykernel_launcher.py:16: VisibleDeprecationWarning: Creating an ndarray from ragged nested sequences (which is a list-or-tuple of lists-or-tuples-or ndarrays with different lengths or shapes) is deprecated. If you meant to do this, you must specify 'dtype=object' when creating the ndarray\n",
      "  app.launch_new_instance()\n"
     ]
    }
   ],
   "source": [
    "start_method(mode='w')\n",
    "\n",
    "check_statistical_significance(df_ctg_05, '1-RE3WC', '2-LOF', 'Accuracy', flag=1)\n",
    "check_statistical_significance(df_ctg_05, '1-RE3WC', '3-LoOP', 'Accuracy')\n",
    "check_statistical_significance(df_ctg_05, '1-RE3WC', '4-ABOD', 'Accuracy')\n",
    "check_statistical_significance(df_ctg_05, '1-RE3WC', '5-KNN', 'Accuracy')\n",
    "check_statistical_significance(df_ctg_05, '1-RE3WC', '6-IF', 'Accuracy')\n",
    "\n",
    "check_statistical_significance(df_ctg_05, '1-RE3WC', '7-CBLOF', 'Accuracy')\n",
    "check_statistical_significance(df_ctg_05, '1-RE3WC', '8-FB', 'Accuracy')\n",
    "check_statistical_significance(df_ctg_05, '1-RE3WC', '9-HBOS', 'Accuracy')\n",
    "check_statistical_significance(df_ctg_05, '1-RE3WC', '10-AvgKNN', 'Accuracy')\n",
    "\n",
    "\n",
    "values = [['\\\\cline{2-8}'],\n",
    "        ['& ' + '\\\\multicolumn{7}{c|}{} \\\\\\\\ [-2.5ex] \\\\cline{2-8}'],\n",
    "        ['& ' + '\\\\multirow{9}{*}{F1-Score}']]\n",
    "\n",
    "write_to_file(file_path2, np.array(values), mode='a')\n",
    "\n",
    "\n",
    "check_statistical_significance(df_ctg_05, '1-RE3WC', '2-LOF', 'F1-Score', flag=1)\n",
    "check_statistical_significance(df_ctg_05, '1-RE3WC', '3-LoOP', 'F1-Score')\n",
    "check_statistical_significance(df_ctg_05, '1-RE3WC', '4-ABOD', 'F1-Score')\n",
    "check_statistical_significance(df_ctg_05, '1-RE3WC', '5-KNN', 'F1-Score')\n",
    "check_statistical_significance(df_ctg_05, '1-RE3WC', '6-IF', 'F1-Score')\n",
    "\n",
    "check_statistical_significance(df_ctg_05, '1-RE3WC', '7-CBLOF', 'F1-Score')\n",
    "check_statistical_significance(df_ctg_05, '1-RE3WC', '8-FB', 'F1-Score')\n",
    "check_statistical_significance(df_ctg_05, '1-RE3WC', '9-HBOS', 'F1-Score')\n",
    "check_statistical_significance(df_ctg_05, '1-RE3WC', '10-AvgKNN', 'F1-Score')\n"
   ]
  },
  {
   "cell_type": "code",
   "execution_count": 12,
   "metadata": {},
   "outputs": [],
   "source": [
    "middle_method(mode='a')"
   ]
  },
  {
   "cell_type": "code",
   "execution_count": 13,
   "metadata": {},
   "outputs": [],
   "source": [
    "check_statistical_significance(df_pima_05, '1-RE3WC', '2-LOF', 'Accuracy', flag=1)\n",
    "check_statistical_significance(df_pima_05, '1-RE3WC', '3-LoOP', 'Accuracy')\n",
    "check_statistical_significance(df_pima_05, '1-RE3WC', '4-ABOD', 'Accuracy')\n",
    "check_statistical_significance(df_pima_05, '1-RE3WC', '5-KNN', 'Accuracy')\n",
    "check_statistical_significance(df_pima_05, '1-RE3WC', '6-IF', 'Accuracy')\n",
    "\n",
    "check_statistical_significance(df_pima_05, '1-RE3WC', '7-CBLOF', 'Accuracy')\n",
    "check_statistical_significance(df_pima_05, '1-RE3WC', '8-FB', 'Accuracy')\n",
    "check_statistical_significance(df_pima_05, '1-RE3WC', '9-HBOS', 'Accuracy')\n",
    "check_statistical_significance(df_pima_05, '1-RE3WC', '10-AvgKNN', 'Accuracy')\n",
    "\n",
    "\n",
    "values = [['\\\\cline{2-8}'],\n",
    "        ['& ' + '\\\\multicolumn{7}{c|}{} \\\\\\\\ [-2.5ex] \\\\cline{2-8}'],\n",
    "        ['& ' + '\\\\multirow{9}{*}{F1-Score}']]\n",
    "write_to_file(file_path2, np.array(values), mode='a')\n",
    "\n",
    "check_statistical_significance(df_pima_05, '1-RE3WC', '2-LOF', 'F1-Score', flag=1)\n",
    "check_statistical_significance(df_pima_05, '1-RE3WC', '3-LoOP', 'F1-Score')\n",
    "check_statistical_significance(df_pima_05, '1-RE3WC', '4-ABOD', 'F1-Score')\n",
    "check_statistical_significance(df_pima_05, '1-RE3WC', '5-KNN', 'F1-Score')\n",
    "check_statistical_significance(df_pima_05, '1-RE3WC', '6-IF', 'F1-Score')\n",
    "\n",
    "check_statistical_significance(df_pima_05, '1-RE3WC', '7-CBLOF', 'F1-Score')\n",
    "check_statistical_significance(df_pima_05, '1-RE3WC', '8-FB', 'F1-Score')\n",
    "check_statistical_significance(df_pima_05, '1-RE3WC', '9-HBOS', 'F1-Score')\n",
    "check_statistical_significance(df_pima_05, '1-RE3WC', '10-AvgKNN', 'F1-Score')\n",
    "\n",
    "\n",
    "end_method(mode='a', tab_name='table_05', percentage='5')"
   ]
  },
  {
   "cell_type": "code",
   "execution_count": null,
   "metadata": {},
   "outputs": [],
   "source": [
    "\n"
   ]
  },
  {
   "cell_type": "code",
   "execution_count": null,
   "metadata": {},
   "outputs": [],
   "source": []
  },
  {
   "cell_type": "code",
   "execution_count": 14,
   "metadata": {},
   "outputs": [
    {
     "name": "stderr",
     "output_type": "stream",
     "text": [
      "/home/baharali/anaconda3/lib/python3.6/site-packages/ipykernel_launcher.py:16: VisibleDeprecationWarning: Creating an ndarray from ragged nested sequences (which is a list-or-tuple of lists-or-tuples-or ndarrays with different lengths or shapes) is deprecated. If you meant to do this, you must specify 'dtype=object' when creating the ndarray\n",
      "  app.launch_new_instance()\n"
     ]
    }
   ],
   "source": [
    "start_method(mode='a')\n",
    "\n",
    "check_statistical_significance(df_ctg_10, '1-RE3WC', '2-LOF', 'Accuracy', flag=1)\n",
    "check_statistical_significance(df_ctg_10, '1-RE3WC', '3-LoOP', 'Accuracy')\n",
    "check_statistical_significance(df_ctg_10, '1-RE3WC', '4-ABOD', 'Accuracy')\n",
    "check_statistical_significance(df_ctg_10, '1-RE3WC', '5-KNN', 'Accuracy')\n",
    "check_statistical_significance(df_ctg_10, '1-RE3WC', '6-IF', 'Accuracy')\n",
    "\n",
    "check_statistical_significance(df_ctg_10, '1-RE3WC', '7-CBLOF', 'Accuracy')\n",
    "check_statistical_significance(df_ctg_10, '1-RE3WC', '8-FB', 'Accuracy')\n",
    "check_statistical_significance(df_ctg_10, '1-RE3WC', '9-HBOS', 'Accuracy')\n",
    "check_statistical_significance(df_ctg_10, '1-RE3WC', '10-AvgKNN', 'Accuracy')\n",
    "\n",
    "\n",
    "\n",
    "values = [['\\\\cline{2-8}'],\n",
    "        ['& ' + '\\\\multicolumn{7}{c|}{} \\\\\\\\ [-2.5ex] \\\\cline{2-8}'],\n",
    "        ['& ' + '\\\\multirow{9}{*}{F1-Score}']]\n",
    "write_to_file(file_path2, np.array(values), mode='a')\n",
    "\n",
    "\n",
    "check_statistical_significance(df_ctg_10, '1-RE3WC', '2-LOF', 'F1-Score', flag=1)\n",
    "check_statistical_significance(df_ctg_10, '1-RE3WC', '3-LoOP', 'F1-Score')\n",
    "check_statistical_significance(df_ctg_10, '1-RE3WC', '4-ABOD', 'F1-Score')\n",
    "check_statistical_significance(df_ctg_10, '1-RE3WC', '5-KNN', 'F1-Score')\n",
    "check_statistical_significance(df_ctg_10, '1-RE3WC', '6-IF', 'F1-Score')\n",
    "\n",
    "check_statistical_significance(df_ctg_05, '1-RE3WC', '7-CBLOF', 'F1-Score')\n",
    "check_statistical_significance(df_ctg_05, '1-RE3WC', '8-FB', 'F1-Score')\n",
    "check_statistical_significance(df_ctg_05, '1-RE3WC', '9-HBOS', 'F1-Score')\n",
    "check_statistical_significance(df_ctg_05, '1-RE3WC', '10-AvgKNN', 'F1-Score')\n",
    "\n"
   ]
  },
  {
   "cell_type": "code",
   "execution_count": 15,
   "metadata": {},
   "outputs": [],
   "source": [
    "middle_method(mode='a')"
   ]
  },
  {
   "cell_type": "code",
   "execution_count": 16,
   "metadata": {},
   "outputs": [],
   "source": [
    "\n",
    "check_statistical_significance(df_pima_10, '1-RE3WC', '2-LOF', 'Accuracy', flag=1)\n",
    "check_statistical_significance(df_pima_10, '1-RE3WC', '3-LoOP', 'Accuracy')\n",
    "check_statistical_significance(df_pima_10, '1-RE3WC', '4-ABOD', 'Accuracy')\n",
    "check_statistical_significance(df_pima_10, '1-RE3WC', '5-KNN', 'Accuracy')\n",
    "check_statistical_significance(df_pima_10, '1-RE3WC', '6-IF', 'Accuracy')\n",
    "\n",
    "check_statistical_significance(df_pima_10, '1-RE3WC', '7-CBLOF', 'Accuracy')\n",
    "check_statistical_significance(df_pima_10, '1-RE3WC', '8-FB', 'Accuracy')\n",
    "check_statistical_significance(df_pima_10, '1-RE3WC', '9-HBOS', 'Accuracy')\n",
    "check_statistical_significance(df_pima_10, '1-RE3WC', '10-AvgKNN', 'Accuracy')\n",
    "\n",
    "\n",
    "values = [['\\\\cline{2-8}'],\n",
    "        ['& ' + '\\\\multicolumn{7}{c|}{} \\\\\\\\ [-2.5ex] \\\\cline{2-8}'],\n",
    "        ['& ' + '\\\\multirow{9}{*}{F1-Score}']]\n",
    "write_to_file(file_path2, np.array(values), mode='a')\n",
    "\n",
    "\n",
    "check_statistical_significance(df_pima_10, '1-RE3WC', '2-LOF', 'F1-Score', flag=1)\n",
    "check_statistical_significance(df_pima_10, '1-RE3WC', '3-LoOP', 'F1-Score')\n",
    "check_statistical_significance(df_pima_10, '1-RE3WC', '4-ABOD', 'F1-Score')\n",
    "check_statistical_significance(df_pima_10, '1-RE3WC', '5-KNN', 'F1-Score')\n",
    "check_statistical_significance(df_pima_10, '1-RE3WC', '6-IF', 'F1-Score')\n",
    "\n",
    "check_statistical_significance(df_pima_10, '1-RE3WC', '7-CBLOF', 'F1-Score')\n",
    "check_statistical_significance(df_pima_10, '1-RE3WC', '8-FB', 'F1-Score')\n",
    "check_statistical_significance(df_pima_10, '1-RE3WC', '9-HBOS', 'F1-Score')\n",
    "check_statistical_significance(df_pima_10, '1-RE3WC', '10-AvgKNN', 'F1-Score')\n",
    "\n",
    "\n",
    "end_method(mode='a', tab_name='table_10', percentage='10')\n"
   ]
  },
  {
   "cell_type": "code",
   "execution_count": null,
   "metadata": {},
   "outputs": [],
   "source": []
  },
  {
   "cell_type": "code",
   "execution_count": 17,
   "metadata": {},
   "outputs": [
    {
     "name": "stderr",
     "output_type": "stream",
     "text": [
      "/home/baharali/anaconda3/lib/python3.6/site-packages/ipykernel_launcher.py:16: VisibleDeprecationWarning: Creating an ndarray from ragged nested sequences (which is a list-or-tuple of lists-or-tuples-or ndarrays with different lengths or shapes) is deprecated. If you meant to do this, you must specify 'dtype=object' when creating the ndarray\n",
      "  app.launch_new_instance()\n"
     ]
    }
   ],
   "source": [
    "start_method(mode='a')\n",
    "\n",
    "check_statistical_significance(df_ctg_15, '1-RE3WC', '2-LOF', 'Accuracy', flag=1)\n",
    "check_statistical_significance(df_ctg_15, '1-RE3WC', '3-LoOP', 'Accuracy')\n",
    "check_statistical_significance(df_ctg_15, '1-RE3WC', '4-ABOD', 'Accuracy')\n",
    "check_statistical_significance(df_ctg_15, '1-RE3WC', '5-KNN', 'Accuracy')\n",
    "check_statistical_significance(df_ctg_15, '1-RE3WC', '6-IF', 'Accuracy')\n",
    "\n",
    "check_statistical_significance(df_ctg_15, '1-RE3WC', '7-CBLOF', 'Accuracy')\n",
    "check_statistical_significance(df_ctg_15, '1-RE3WC', '8-FB', 'Accuracy')\n",
    "check_statistical_significance(df_ctg_15, '1-RE3WC', '9-HBOS', 'Accuracy')\n",
    "check_statistical_significance(df_ctg_15, '1-RE3WC', '10-AvgKNN', 'Accuracy')\n",
    "\n",
    "\n",
    "\n",
    "values = [['\\\\cline{2-8}'],\n",
    "        ['& ' + '\\\\multicolumn{7}{c|}{} \\\\\\\\ [-2.5ex] \\\\cline{2-8}'],\n",
    "        ['& ' + '\\\\multirow{9}{*}{F1-Score}']]\n",
    "write_to_file(file_path2, np.array(values), mode='a')\n",
    "\n",
    "\n",
    "check_statistical_significance(df_ctg_15, '1-RE3WC', '2-LOF', 'F1-Score', flag=1)\n",
    "check_statistical_significance(df_ctg_15, '1-RE3WC', '3-LoOP', 'F1-Score')\n",
    "check_statistical_significance(df_ctg_15, '1-RE3WC', '4-ABOD', 'F1-Score')\n",
    "check_statistical_significance(df_ctg_15, '1-RE3WC', '5-KNN', 'F1-Score')\n",
    "check_statistical_significance(df_ctg_15, '1-RE3WC', '6-IF', 'F1-Score')\n",
    "\n",
    "check_statistical_significance(df_ctg_15, '1-RE3WC', '7-CBLOF', 'F1-Score')\n",
    "check_statistical_significance(df_ctg_15, '1-RE3WC', '8-FB', 'F1-Score')\n",
    "check_statistical_significance(df_ctg_15, '1-RE3WC', '9-HBOS', 'F1-Score')\n",
    "check_statistical_significance(df_ctg_15, '1-RE3WC', '10-AvgKNN', 'F1-Score')\n",
    "\n"
   ]
  },
  {
   "cell_type": "code",
   "execution_count": 18,
   "metadata": {},
   "outputs": [],
   "source": [
    "middle_method(mode='a')\n"
   ]
  },
  {
   "cell_type": "code",
   "execution_count": 19,
   "metadata": {},
   "outputs": [],
   "source": [
    "check_statistical_significance(df_pima_15, '1-RE3WC', '2-LOF', 'Accuracy', flag=1)\n",
    "check_statistical_significance(df_pima_15, '1-RE3WC', '3-LoOP', 'Accuracy')\n",
    "check_statistical_significance(df_pima_15, '1-RE3WC', '4-ABOD', 'Accuracy')\n",
    "check_statistical_significance(df_pima_15, '1-RE3WC', '5-KNN', 'Accuracy')\n",
    "check_statistical_significance(df_pima_15, '1-RE3WC', '6-IF', 'Accuracy')\n",
    "\n",
    "check_statistical_significance(df_pima_15, '1-RE3WC', '7-CBLOF', 'Accuracy')\n",
    "check_statistical_significance(df_pima_15, '1-RE3WC', '8-FB', 'Accuracy')\n",
    "check_statistical_significance(df_pima_15, '1-RE3WC', '9-HBOS', 'Accuracy')\n",
    "check_statistical_significance(df_pima_15, '1-RE3WC', '10-AvgKNN', 'Accuracy')\n",
    "\n",
    "\n",
    "\n",
    "values = [['\\\\cline{2-8}'],\n",
    "        ['& ' + '\\\\multicolumn{7}{c|}{} \\\\\\\\ [-2.5ex] \\\\cline{2-8}'],\n",
    "        ['& ' + '\\\\multirow{9}{*}{F1-Score}']]\n",
    "write_to_file(file_path2, np.array(values), mode='a')\n",
    "\n",
    "\n",
    "check_statistical_significance(df_pima_15, '1-RE3WC', '2-LOF', 'F1-Score', flag=1)\n",
    "check_statistical_significance(df_pima_15, '1-RE3WC', '3-LoOP', 'F1-Score')\n",
    "check_statistical_significance(df_pima_15, '1-RE3WC', '4-ABOD', 'F1-Score')\n",
    "check_statistical_significance(df_pima_15, '1-RE3WC', '5-KNN', 'F1-Score')\n",
    "check_statistical_significance(df_pima_15, '1-RE3WC', '6-IF', 'F1-Score')\n",
    "\n",
    "check_statistical_significance(df_pima_15, '1-RE3WC', '7-CBLOF', 'F1-Score')\n",
    "check_statistical_significance(df_pima_15, '1-RE3WC', '8-FB', 'F1-Score')\n",
    "check_statistical_significance(df_pima_15, '1-RE3WC', '9-HBOS', 'F1-Score')\n",
    "check_statistical_significance(df_pima_15, '1-RE3WC', '10-AvgKNN', 'F1-Score')\n",
    "\n",
    "\n",
    "end_method(mode='a', tab_name='table_15', percentage='15')\n"
   ]
  },
  {
   "cell_type": "code",
   "execution_count": null,
   "metadata": {},
   "outputs": [],
   "source": []
  },
  {
   "cell_type": "code",
   "execution_count": 20,
   "metadata": {},
   "outputs": [
    {
     "name": "stderr",
     "output_type": "stream",
     "text": [
      "/home/baharali/anaconda3/lib/python3.6/site-packages/ipykernel_launcher.py:16: VisibleDeprecationWarning: Creating an ndarray from ragged nested sequences (which is a list-or-tuple of lists-or-tuples-or ndarrays with different lengths or shapes) is deprecated. If you meant to do this, you must specify 'dtype=object' when creating the ndarray\n",
      "  app.launch_new_instance()\n"
     ]
    }
   ],
   "source": [
    "start_method(mode='a')\n",
    "\n",
    "check_statistical_significance(df_ctg_20, '1-RE3WC', '2-LOF', 'Accuracy', flag=1)\n",
    "check_statistical_significance(df_ctg_20, '1-RE3WC', '3-LoOP', 'Accuracy')\n",
    "check_statistical_significance(df_ctg_20, '1-RE3WC', '4-ABOD', 'Accuracy')\n",
    "check_statistical_significance(df_ctg_20, '1-RE3WC', '5-KNN', 'Accuracy')\n",
    "check_statistical_significance(df_ctg_20, '1-RE3WC', '6-IF', 'Accuracy')\n",
    "\n",
    "check_statistical_significance(df_ctg_20, '1-RE3WC', '7-CBLOF', 'Accuracy')\n",
    "check_statistical_significance(df_ctg_20, '1-RE3WC', '8-FB', 'Accuracy')\n",
    "check_statistical_significance(df_ctg_20, '1-RE3WC', '9-HBOS', 'Accuracy')\n",
    "check_statistical_significance(df_ctg_20, '1-RE3WC', '10-AvgKNN', 'Accuracy')\n",
    "\n",
    "\n",
    "\n",
    "values = [['\\\\cline{2-8}'],\n",
    "        ['& ' + '\\\\multicolumn{7}{c|}{} \\\\\\\\ [-2.5ex] \\\\cline{2-8}'],\n",
    "        ['& ' + '\\\\multirow{9}{*}{F1-Score}']]\n",
    "write_to_file(file_path2, np.array(values), mode='a')\n",
    "\n",
    "\n",
    "check_statistical_significance(df_ctg_20, '1-RE3WC', '2-LOF', 'F1-Score', flag=1)\n",
    "check_statistical_significance(df_ctg_20, '1-RE3WC', '3-LoOP', 'F1-Score')\n",
    "check_statistical_significance(df_ctg_20, '1-RE3WC', '4-ABOD', 'F1-Score')\n",
    "check_statistical_significance(df_ctg_20, '1-RE3WC', '5-KNN', 'F1-Score')\n",
    "check_statistical_significance(df_ctg_20, '1-RE3WC', '6-IF', 'F1-Score')\n",
    "\n",
    "check_statistical_significance(df_ctg_20, '1-RE3WC', '7-CBLOF', 'F1-Score')\n",
    "check_statistical_significance(df_ctg_20, '1-RE3WC', '8-FB', 'F1-Score')\n",
    "check_statistical_significance(df_ctg_20, '1-RE3WC', '9-HBOS', 'F1-Score')\n",
    "check_statistical_significance(df_ctg_20, '1-RE3WC', '10-AvgKNN', 'F1-Score')\n"
   ]
  },
  {
   "cell_type": "code",
   "execution_count": 21,
   "metadata": {},
   "outputs": [],
   "source": [
    "middle_method(mode='a')"
   ]
  },
  {
   "cell_type": "code",
   "execution_count": 22,
   "metadata": {},
   "outputs": [],
   "source": [
    "check_statistical_significance(df_pima_20, '1-RE3WC', '2-LOF', 'Accuracy', flag=1)\n",
    "check_statistical_significance(df_pima_20, '1-RE3WC', '3-LoOP', 'Accuracy')\n",
    "check_statistical_significance(df_pima_20, '1-RE3WC', '4-ABOD', 'Accuracy')\n",
    "check_statistical_significance(df_pima_20, '1-RE3WC', '5-KNN', 'Accuracy')\n",
    "check_statistical_significance(df_pima_20, '1-RE3WC', '6-IF', 'Accuracy')\n",
    "\n",
    "check_statistical_significance(df_pima_20, '1-RE3WC', '7-CBLOF', 'Accuracy')\n",
    "check_statistical_significance(df_pima_20, '1-RE3WC', '8-FB', 'Accuracy')\n",
    "check_statistical_significance(df_pima_20, '1-RE3WC', '9-HBOS', 'Accuracy')\n",
    "check_statistical_significance(df_pima_20, '1-RE3WC', '10-AvgKNN', 'Accuracy')\n",
    "\n",
    "\n",
    "\n",
    "values = [['\\\\cline{2-8}'],\n",
    "        ['& ' + '\\\\multicolumn{7}{c|}{} \\\\\\\\ [-2.5ex] \\\\cline{2-8}'],\n",
    "        ['& ' + '\\\\multirow{9}{*}{F1-Score}']]\n",
    "write_to_file(file_path2, np.array(values), mode='a')\n",
    "\n",
    "\n",
    "check_statistical_significance(df_pima_20, '1-RE3WC', '2-LOF', 'F1-Score', flag=1)\n",
    "check_statistical_significance(df_pima_20, '1-RE3WC', '3-LoOP', 'F1-Score')\n",
    "check_statistical_significance(df_pima_20, '1-RE3WC', '4-ABOD', 'F1-Score')\n",
    "check_statistical_significance(df_pima_20, '1-RE3WC', '5-KNN', 'F1-Score')\n",
    "check_statistical_significance(df_pima_20, '1-RE3WC', '6-IF', 'F1-Score')\n",
    "\n",
    "check_statistical_significance(df_pima_20, '1-RE3WC', '7-CBLOF', 'F1-Score')\n",
    "check_statistical_significance(df_pima_20, '1-RE3WC', '8-FB', 'F1-Score')\n",
    "check_statistical_significance(df_pima_20, '1-RE3WC', '9-HBOS', 'F1-Score')\n",
    "check_statistical_significance(df_pima_20, '1-RE3WC', '10-AvgKNN', 'F1-Score')\n",
    "\n",
    "\n",
    "end_method(mode='a', tab_name='table_20', percentage='20')"
   ]
  },
  {
   "cell_type": "code",
   "execution_count": 23,
   "metadata": {},
   "outputs": [
    {
     "name": "stdout",
     "output_type": "stream",
     "text": [
      "/home/baharali/Medical_Image/Implementations/1. RE3WC/Tvalue_Pvalue_latex.txt\n",
      "Done\n"
     ]
    }
   ],
   "source": [
    "print(file_path2)\n",
    "print(\"Done\")"
   ]
  },
  {
   "cell_type": "code",
   "execution_count": null,
   "metadata": {},
   "outputs": [],
   "source": []
  }
 ],
 "metadata": {
  "kernelspec": {
   "display_name": "Python 3 (ipykernel)",
   "language": "python",
   "name": "python3"
  },
  "language_info": {
   "codemirror_mode": {
    "name": "ipython",
    "version": 3
   },
   "file_extension": ".py",
   "mimetype": "text/x-python",
   "name": "python",
   "nbconvert_exporter": "python",
   "pygments_lexer": "ipython3",
   "version": "3.9.12"
  }
 },
 "nbformat": 4,
 "nbformat_minor": 2
}
